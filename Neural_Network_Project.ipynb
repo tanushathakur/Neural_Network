{
  "nbformat": 4,
  "nbformat_minor": 0,
  "metadata": {
    "colab": {
      "name": "Neural_Network_Project.ipynb",
      "provenance": []
    },
    "kernelspec": {
      "name": "python3",
      "display_name": "Python 3"
    },
    "language_info": {
      "name": "python"
    }
  },
  "cells": [
    {
      "cell_type": "markdown",
      "metadata": {
        "id": "Erf6E2SIfxde"
      },
      "source": [
        "**DEEP** **LEARNING** **PROJECT**"
      ]
    },
    {
      "cell_type": "code",
      "metadata": {
        "id": "sZRGP7Z5f9vI"
      },
      "source": [
        "## IMPORTING DATASET\n",
        "\n",
        "from sklearn.datasets import load_breast_cancer\n",
        "Data=load_breast_cancer()\n"
      ],
      "execution_count": 1,
      "outputs": []
    },
    {
      "cell_type": "code",
      "metadata": {
        "colab": {
          "base_uri": "https://localhost:8080/"
        },
        "id": "4PcmH9xPgXHx",
        "outputId": "0fb91dba-f4f2-4498-88c7-c5a74844d8b5"
      },
      "source": [
        "print(Data.DESCR)"
      ],
      "execution_count": 2,
      "outputs": [
        {
          "output_type": "stream",
          "text": [
            ".. _breast_cancer_dataset:\n",
            "\n",
            "Breast cancer wisconsin (diagnostic) dataset\n",
            "--------------------------------------------\n",
            "\n",
            "**Data Set Characteristics:**\n",
            "\n",
            "    :Number of Instances: 569\n",
            "\n",
            "    :Number of Attributes: 30 numeric, predictive attributes and the class\n",
            "\n",
            "    :Attribute Information:\n",
            "        - radius (mean of distances from center to points on the perimeter)\n",
            "        - texture (standard deviation of gray-scale values)\n",
            "        - perimeter\n",
            "        - area\n",
            "        - smoothness (local variation in radius lengths)\n",
            "        - compactness (perimeter^2 / area - 1.0)\n",
            "        - concavity (severity of concave portions of the contour)\n",
            "        - concave points (number of concave portions of the contour)\n",
            "        - symmetry \n",
            "        - fractal dimension (\"coastline approximation\" - 1)\n",
            "\n",
            "        The mean, standard error, and \"worst\" or largest (mean of the three\n",
            "        largest values) of these features were computed for each image,\n",
            "        resulting in 30 features.  For instance, field 3 is Mean Radius, field\n",
            "        13 is Radius SE, field 23 is Worst Radius.\n",
            "\n",
            "        - class:\n",
            "                - WDBC-Malignant\n",
            "                - WDBC-Benign\n",
            "\n",
            "    :Summary Statistics:\n",
            "\n",
            "    ===================================== ====== ======\n",
            "                                           Min    Max\n",
            "    ===================================== ====== ======\n",
            "    radius (mean):                        6.981  28.11\n",
            "    texture (mean):                       9.71   39.28\n",
            "    perimeter (mean):                     43.79  188.5\n",
            "    area (mean):                          143.5  2501.0\n",
            "    smoothness (mean):                    0.053  0.163\n",
            "    compactness (mean):                   0.019  0.345\n",
            "    concavity (mean):                     0.0    0.427\n",
            "    concave points (mean):                0.0    0.201\n",
            "    symmetry (mean):                      0.106  0.304\n",
            "    fractal dimension (mean):             0.05   0.097\n",
            "    radius (standard error):              0.112  2.873\n",
            "    texture (standard error):             0.36   4.885\n",
            "    perimeter (standard error):           0.757  21.98\n",
            "    area (standard error):                6.802  542.2\n",
            "    smoothness (standard error):          0.002  0.031\n",
            "    compactness (standard error):         0.002  0.135\n",
            "    concavity (standard error):           0.0    0.396\n",
            "    concave points (standard error):      0.0    0.053\n",
            "    symmetry (standard error):            0.008  0.079\n",
            "    fractal dimension (standard error):   0.001  0.03\n",
            "    radius (worst):                       7.93   36.04\n",
            "    texture (worst):                      12.02  49.54\n",
            "    perimeter (worst):                    50.41  251.2\n",
            "    area (worst):                         185.2  4254.0\n",
            "    smoothness (worst):                   0.071  0.223\n",
            "    compactness (worst):                  0.027  1.058\n",
            "    concavity (worst):                    0.0    1.252\n",
            "    concave points (worst):               0.0    0.291\n",
            "    symmetry (worst):                     0.156  0.664\n",
            "    fractal dimension (worst):            0.055  0.208\n",
            "    ===================================== ====== ======\n",
            "\n",
            "    :Missing Attribute Values: None\n",
            "\n",
            "    :Class Distribution: 212 - Malignant, 357 - Benign\n",
            "\n",
            "    :Creator:  Dr. William H. Wolberg, W. Nick Street, Olvi L. Mangasarian\n",
            "\n",
            "    :Donor: Nick Street\n",
            "\n",
            "    :Date: November, 1995\n",
            "\n",
            "This is a copy of UCI ML Breast Cancer Wisconsin (Diagnostic) datasets.\n",
            "https://goo.gl/U2Uwz2\n",
            "\n",
            "Features are computed from a digitized image of a fine needle\n",
            "aspirate (FNA) of a breast mass.  They describe\n",
            "characteristics of the cell nuclei present in the image.\n",
            "\n",
            "Separating plane described above was obtained using\n",
            "Multisurface Method-Tree (MSM-T) [K. P. Bennett, \"Decision Tree\n",
            "Construction Via Linear Programming.\" Proceedings of the 4th\n",
            "Midwest Artificial Intelligence and Cognitive Science Society,\n",
            "pp. 97-101, 1992], a classification method which uses linear\n",
            "programming to construct a decision tree.  Relevant features\n",
            "were selected using an exhaustive search in the space of 1-4\n",
            "features and 1-3 separating planes.\n",
            "\n",
            "The actual linear program used to obtain the separating plane\n",
            "in the 3-dimensional space is that described in:\n",
            "[K. P. Bennett and O. L. Mangasarian: \"Robust Linear\n",
            "Programming Discrimination of Two Linearly Inseparable Sets\",\n",
            "Optimization Methods and Software 1, 1992, 23-34].\n",
            "\n",
            "This database is also available through the UW CS ftp server:\n",
            "\n",
            "ftp ftp.cs.wisc.edu\n",
            "cd math-prog/cpo-dataset/machine-learn/WDBC/\n",
            "\n",
            ".. topic:: References\n",
            "\n",
            "   - W.N. Street, W.H. Wolberg and O.L. Mangasarian. Nuclear feature extraction \n",
            "     for breast tumor diagnosis. IS&T/SPIE 1993 International Symposium on \n",
            "     Electronic Imaging: Science and Technology, volume 1905, pages 861-870,\n",
            "     San Jose, CA, 1993.\n",
            "   - O.L. Mangasarian, W.N. Street and W.H. Wolberg. Breast cancer diagnosis and \n",
            "     prognosis via linear programming. Operations Research, 43(4), pages 570-577, \n",
            "     July-August 1995.\n",
            "   - W.H. Wolberg, W.N. Street, and O.L. Mangasarian. Machine learning techniques\n",
            "     to diagnose breast cancer from fine-needle aspirates. Cancer Letters 77 (1994) \n",
            "     163-171.\n"
          ],
          "name": "stdout"
        }
      ]
    },
    {
      "cell_type": "code",
      "metadata": {
        "colab": {
          "base_uri": "https://localhost:8080/"
        },
        "id": "mxCwEEuigx3R",
        "outputId": "3bac0d29-ae4d-458a-ef6c-6f836be88b2c"
      },
      "source": [
        "feature = Data.data\n",
        "target =  Data.target\n",
        "\n",
        "print(feature.shape)\n",
        "print(target.shape)"
      ],
      "execution_count": 3,
      "outputs": [
        {
          "output_type": "stream",
          "text": [
            "(569, 30)\n",
            "(569,)\n"
          ],
          "name": "stdout"
        }
      ]
    },
    {
      "cell_type": "code",
      "metadata": {
        "colab": {
          "base_uri": "https://localhost:8080/"
        },
        "id": "SaHbAOI4hiWK",
        "outputId": "bfa2ac21-ebba-4775-ae6f-75686df5fa2d"
      },
      "source": [
        "from sklearn.model_selection import train_test_split\n",
        "X_train,X_test,Y_train ,Y_test=train_test_split(feature ,target,test_size=0.2)\n",
        "\n",
        "print(X_train.shape)\n",
        "print(X_test.shape)\n",
        "print(Y_train.shape)\n",
        "print(Y_test.shape)\n"
      ],
      "execution_count": 5,
      "outputs": [
        {
          "output_type": "stream",
          "text": [
            "(455, 30)\n",
            "(114, 30)\n",
            "(455,)\n",
            "(114,)\n"
          ],
          "name": "stdout"
        }
      ]
    },
    {
      "cell_type": "code",
      "metadata": {
        "id": "kcIVPJkwiqYH"
      },
      "source": [
        "from keras.models import Sequential\n",
        "from keras.layers import Dense"
      ],
      "execution_count": 10,
      "outputs": []
    },
    {
      "cell_type": "code",
      "metadata": {
        "id": "lQBlKoB9jGUT"
      },
      "source": [
        "model = Sequential()\n",
        "model.add(Dense(32,input_dim=30 , activation='relu'))\n",
        "model.add(Dense(64,activation='relu'))\n",
        "model.add(Dense(1,activation='sigmoid'))"
      ],
      "execution_count": 12,
      "outputs": []
    },
    {
      "cell_type": "code",
      "metadata": {
        "id": "f75HIqpgkC1X"
      },
      "source": [
        "model.compile(loss='binary_crossentropy',optimizer='adam',metrics=['accuracy'])\n"
      ],
      "execution_count": 15,
      "outputs": []
    },
    {
      "cell_type": "code",
      "metadata": {
        "colab": {
          "base_uri": "https://localhost:8080/"
        },
        "id": "9GwQSq1Gki9X",
        "outputId": "b5208ad4-05f4-4896-df2a-178decadabc2"
      },
      "source": [
        "model.summary()"
      ],
      "execution_count": 17,
      "outputs": [
        {
          "output_type": "stream",
          "text": [
            "Model: \"sequential_1\"\n",
            "_________________________________________________________________\n",
            "Layer (type)                 Output Shape              Param #   \n",
            "=================================================================\n",
            "dense_3 (Dense)              (None, 32)                992       \n",
            "_________________________________________________________________\n",
            "dense_4 (Dense)              (None, 64)                2112      \n",
            "_________________________________________________________________\n",
            "dense_5 (Dense)              (None, 1)                 65        \n",
            "=================================================================\n",
            "Total params: 3,169\n",
            "Trainable params: 3,169\n",
            "Non-trainable params: 0\n",
            "_________________________________________________________________\n"
          ],
          "name": "stdout"
        }
      ]
    },
    {
      "cell_type": "code",
      "metadata": {
        "id": "-139_v2RksmE"
      },
      "source": [
        ""
      ],
      "execution_count": null,
      "outputs": []
    },
    {
      "cell_type": "code",
      "metadata": {
        "colab": {
          "base_uri": "https://localhost:8080/"
        },
        "id": "qj9I92lckswU",
        "outputId": "558c7bbe-fd6b-4f29-fdbd-60d7f95ef645"
      },
      "source": [
        "model.fit( X_train, Y_train ,epochs=10)"
      ],
      "execution_count": 20,
      "outputs": [
        {
          "output_type": "stream",
          "text": [
            "Epoch 1/10\n",
            "15/15 [==============================] - 0s 2ms/step - loss: 0.4194 - accuracy: 0.8747\n",
            "Epoch 2/10\n",
            "15/15 [==============================] - 0s 2ms/step - loss: 0.3561 - accuracy: 0.8967\n",
            "Epoch 3/10\n",
            "15/15 [==============================] - 0s 2ms/step - loss: 0.2601 - accuracy: 0.9011\n",
            "Epoch 4/10\n",
            "15/15 [==============================] - 0s 2ms/step - loss: 0.2869 - accuracy: 0.9099\n",
            "Epoch 5/10\n",
            "15/15 [==============================] - 0s 2ms/step - loss: 0.2657 - accuracy: 0.9077\n",
            "Epoch 6/10\n",
            "15/15 [==============================] - 0s 2ms/step - loss: 0.3195 - accuracy: 0.8879\n",
            "Epoch 7/10\n",
            "15/15 [==============================] - 0s 2ms/step - loss: 0.3023 - accuracy: 0.9055\n",
            "Epoch 8/10\n",
            "15/15 [==============================] - 0s 2ms/step - loss: 0.2574 - accuracy: 0.9121\n",
            "Epoch 9/10\n",
            "15/15 [==============================] - 0s 2ms/step - loss: 0.2219 - accuracy: 0.9099\n",
            "Epoch 10/10\n",
            "15/15 [==============================] - 0s 3ms/step - loss: 0.3097 - accuracy: 0.9033\n"
          ],
          "name": "stdout"
        },
        {
          "output_type": "execute_result",
          "data": {
            "text/plain": [
              "<keras.callbacks.History at 0x7f61364fe550>"
            ]
          },
          "metadata": {
            "tags": []
          },
          "execution_count": 20
        }
      ]
    },
    {
      "cell_type": "code",
      "metadata": {
        "colab": {
          "base_uri": "https://localhost:8080/"
        },
        "id": "HEzXf7n8lN2I",
        "outputId": "3a50cbfc-2ebe-469b-eb76-35964cf60b4d"
      },
      "source": [
        "scores= model.evaluate( X_test, Y_test)\n",
        "print(scores)"
      ],
      "execution_count": 21,
      "outputs": [
        {
          "output_type": "stream",
          "text": [
            "4/4 [==============================] - 1s 3ms/step - loss: 0.3913 - accuracy: 0.8947\n",
            "[0.391265869140625, 0.8947368264198303]\n"
          ],
          "name": "stdout"
        }
      ]
    },
    {
      "cell_type": "code",
      "metadata": {
        "colab": {
          "base_uri": "https://localhost:8080/"
        },
        "id": "Tlb1_Km0lwoT",
        "outputId": "ce4a70cf-b337-4c38-c0d4-9650f30b9b3b"
      },
      "source": [
        "predictions =model.predict(X_test)\n",
        "label=[]\n",
        "for pred in predictions:\n",
        "  if pred>=0.5:\n",
        "    print(\"Malignent\")\n",
        "  else:\n",
        "    print(\"Benign\")"
      ],
      "execution_count": 22,
      "outputs": [
        {
          "output_type": "stream",
          "text": [
            "Malignent\n",
            "Malignent\n",
            "Malignent\n",
            "Malignent\n",
            "Benign\n",
            "Malignent\n",
            "Benign\n",
            "Malignent\n",
            "Benign\n",
            "Malignent\n",
            "Malignent\n",
            "Malignent\n",
            "Benign\n",
            "Malignent\n",
            "Malignent\n",
            "Malignent\n",
            "Malignent\n",
            "Malignent\n",
            "Malignent\n",
            "Malignent\n",
            "Malignent\n",
            "Malignent\n",
            "Malignent\n",
            "Malignent\n",
            "Malignent\n",
            "Benign\n",
            "Malignent\n",
            "Malignent\n",
            "Malignent\n",
            "Benign\n",
            "Benign\n",
            "Malignent\n",
            "Benign\n",
            "Benign\n",
            "Malignent\n",
            "Malignent\n",
            "Malignent\n",
            "Benign\n",
            "Malignent\n",
            "Malignent\n",
            "Benign\n",
            "Benign\n",
            "Malignent\n",
            "Benign\n",
            "Malignent\n",
            "Malignent\n",
            "Malignent\n",
            "Malignent\n",
            "Malignent\n",
            "Benign\n",
            "Malignent\n",
            "Malignent\n",
            "Malignent\n",
            "Malignent\n",
            "Benign\n",
            "Malignent\n",
            "Malignent\n",
            "Benign\n",
            "Malignent\n",
            "Malignent\n",
            "Benign\n",
            "Malignent\n",
            "Malignent\n",
            "Malignent\n",
            "Benign\n",
            "Malignent\n",
            "Malignent\n",
            "Malignent\n",
            "Malignent\n",
            "Malignent\n",
            "Malignent\n",
            "Malignent\n",
            "Malignent\n",
            "Malignent\n",
            "Malignent\n",
            "Malignent\n",
            "Benign\n",
            "Malignent\n",
            "Malignent\n",
            "Benign\n",
            "Malignent\n",
            "Malignent\n",
            "Malignent\n",
            "Malignent\n",
            "Malignent\n",
            "Malignent\n",
            "Malignent\n",
            "Malignent\n",
            "Malignent\n",
            "Benign\n",
            "Malignent\n",
            "Malignent\n",
            "Malignent\n",
            "Malignent\n",
            "Malignent\n",
            "Benign\n",
            "Malignent\n",
            "Malignent\n",
            "Benign\n",
            "Benign\n",
            "Malignent\n",
            "Benign\n",
            "Malignent\n",
            "Malignent\n",
            "Benign\n",
            "Malignent\n",
            "Malignent\n",
            "Benign\n",
            "Malignent\n",
            "Benign\n",
            "Malignent\n",
            "Malignent\n",
            "Malignent\n",
            "Malignent\n"
          ],
          "name": "stdout"
        }
      ]
    }
  ]
}